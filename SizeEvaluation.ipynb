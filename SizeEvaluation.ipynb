{
 "cells": [
  {
   "cell_type": "code",
   "execution_count": 1,
   "metadata": {},
   "outputs": [],
   "source": [
    "# noinspection PyPackageRequirements,PyPackageRequirements\n",
    "from torchsummary import summary\n",
    "import torch\n",
    "import yaml\n",
    "from explainer.GeneratorEncoderDecoder import GeneratorEncoderDecoder\n",
    "from explainer.Discriminator import Discriminator"
   ]
  },
  {
   "cell_type": "code",
   "execution_count": 2,
   "metadata": {},
   "outputs": [],
   "source": [
    "config_path = 'configs/celebA_Young_Explainer.yaml'\n",
    "with open(config_path) as f:\n",
    "    config = yaml.safe_load(f)"
   ]
  },
  {
   "cell_type": "code",
   "execution_count": 3,
   "metadata": {},
   "outputs": [],
   "source": [
    "G = GeneratorEncoderDecoder(n_bins=config['num_bins'])\n",
    "D = Discriminator(n_bins=config['num_bins'])"
   ]
  },
  {
   "cell_type": "code",
   "execution_count": 4,
   "metadata": {},
   "outputs": [],
   "source": [
    "device = 'cpu'\n",
    "if torch.cuda.is_available():\n",
    "    device = 'cuda'"
   ]
  },
  {
   "cell_type": "markdown",
   "metadata": {
    "pycharm": {
     "name": "#%% md\n"
    }
   },
   "source": [
    "# Estimate the Discriminator size"
   ]
  },
  {
   "cell_type": "code",
   "execution_count": 5,
   "outputs": [],
   "source": [
    " # summary(D.to(device), input_size=[(3, 128, 128), (1, 1, 32)], batch_size=8)"
   ],
   "metadata": {
    "collapsed": false,
    "pycharm": {
     "name": "#%%\n"
    }
   }
  },
  {
   "cell_type": "code",
   "execution_count": 6,
   "outputs": [
    {
     "name": "stdout",
     "output_type": "stream",
     "text": [
      "In Generator, x-shape: torch.Size([2, 3, 128, 128])\n",
      "In Generator, y-shape: torch.Size([2])\n",
      "----------------------------------------------------------------\n",
      "        Layer (type)               Output Shape         Param #\n",
      "================================================================\n",
      "ConditionalBatchNorm2d-1           [8, 3, 128, 128]               0\n",
      "              ReLU-2           [8, 3, 128, 128]               0\n",
      "            Conv2d-3          [8, 64, 128, 128]           1,792\n",
      "    SpectralConv2d-4          [8, 64, 128, 128]               0\n",
      "          Identity-5          [8, 64, 128, 128]               0\n",
      "ConditionalBatchNorm2d-6          [8, 64, 128, 128]               0\n",
      "              ReLU-7          [8, 64, 128, 128]               0\n",
      "      Downsampling-8            [8, 64, 64, 64]               0\n",
      "            Conv2d-9           [8, 128, 64, 64]          73,856\n",
      "   SpectralConv2d-10           [8, 128, 64, 64]               0\n",
      "ConditionalBatchNorm2d-11           [8, 128, 64, 64]               0\n",
      "             ReLU-12           [8, 128, 64, 64]               0\n",
      "           Conv2d-13           [8, 128, 64, 64]         147,584\n",
      "   SpectralConv2d-14           [8, 128, 64, 64]               0\n",
      "     Downsampling-15            [8, 64, 64, 64]               0\n",
      "           Conv2d-16           [8, 128, 64, 64]           8,320\n",
      "   SpectralConv2d-17           [8, 128, 64, 64]               0\n",
      "GeneratorEncoderResblock-18           [8, 128, 64, 64]               0\n",
      "         Identity-19           [8, 128, 64, 64]               0\n",
      "ConditionalBatchNorm2d-20           [8, 128, 64, 64]               0\n",
      "             ReLU-21           [8, 128, 64, 64]               0\n",
      "     Downsampling-22           [8, 128, 32, 32]               0\n",
      "           Conv2d-23           [8, 256, 32, 32]         295,168\n",
      "   SpectralConv2d-24           [8, 256, 32, 32]               0\n",
      "ConditionalBatchNorm2d-25           [8, 256, 32, 32]               0\n",
      "             ReLU-26           [8, 256, 32, 32]               0\n",
      "           Conv2d-27           [8, 256, 32, 32]         590,080\n",
      "   SpectralConv2d-28           [8, 256, 32, 32]               0\n",
      "     Downsampling-29           [8, 128, 32, 32]               0\n",
      "           Conv2d-30           [8, 256, 32, 32]          33,024\n",
      "   SpectralConv2d-31           [8, 256, 32, 32]               0\n",
      "GeneratorEncoderResblock-32           [8, 256, 32, 32]               0\n",
      "         Identity-33           [8, 256, 32, 32]               0\n",
      "ConditionalBatchNorm2d-34           [8, 256, 32, 32]               0\n",
      "             ReLU-35           [8, 256, 32, 32]               0\n",
      "     Downsampling-36           [8, 256, 16, 16]               0\n",
      "           Conv2d-37           [8, 512, 16, 16]       1,180,160\n",
      "   SpectralConv2d-38           [8, 512, 16, 16]               0\n",
      "ConditionalBatchNorm2d-39           [8, 512, 16, 16]               0\n",
      "             ReLU-40           [8, 512, 16, 16]               0\n",
      "           Conv2d-41           [8, 512, 16, 16]       2,359,808\n",
      "   SpectralConv2d-42           [8, 512, 16, 16]               0\n",
      "     Downsampling-43           [8, 256, 16, 16]               0\n",
      "           Conv2d-44           [8, 512, 16, 16]         131,584\n",
      "   SpectralConv2d-45           [8, 512, 16, 16]               0\n",
      "GeneratorEncoderResblock-46           [8, 512, 16, 16]               0\n",
      "         Identity-47           [8, 512, 16, 16]               0\n",
      "ConditionalBatchNorm2d-48           [8, 512, 16, 16]               0\n",
      "             ReLU-49           [8, 512, 16, 16]               0\n",
      "     Downsampling-50             [8, 512, 8, 8]               0\n",
      "           Conv2d-51            [8, 1024, 8, 8]       4,719,616\n",
      "   SpectralConv2d-52            [8, 1024, 8, 8]               0\n",
      "ConditionalBatchNorm2d-53            [8, 1024, 8, 8]               0\n",
      "             ReLU-54            [8, 1024, 8, 8]               0\n",
      "           Conv2d-55            [8, 1024, 8, 8]       9,438,208\n",
      "   SpectralConv2d-56            [8, 1024, 8, 8]               0\n",
      "     Downsampling-57             [8, 512, 8, 8]               0\n",
      "           Conv2d-58            [8, 1024, 8, 8]         525,312\n",
      "   SpectralConv2d-59            [8, 1024, 8, 8]               0\n",
      "GeneratorEncoderResblock-60            [8, 1024, 8, 8]               0\n",
      "         Identity-61            [8, 1024, 8, 8]               0\n",
      "ConditionalBatchNorm2d-62            [8, 1024, 8, 8]               0\n",
      "             ReLU-63            [8, 1024, 8, 8]               0\n",
      "     Downsampling-64            [8, 1024, 4, 4]               0\n",
      "           Conv2d-65            [8, 1024, 4, 4]       9,438,208\n",
      "   SpectralConv2d-66            [8, 1024, 4, 4]               0\n",
      "ConditionalBatchNorm2d-67            [8, 1024, 4, 4]               0\n",
      "             ReLU-68            [8, 1024, 4, 4]               0\n",
      "           Conv2d-69            [8, 1024, 4, 4]       9,438,208\n",
      "   SpectralConv2d-70            [8, 1024, 4, 4]               0\n",
      "     Downsampling-71            [8, 1024, 4, 4]               0\n",
      "           Conv2d-72            [8, 1024, 4, 4]       1,049,600\n",
      "   SpectralConv2d-73            [8, 1024, 4, 4]               0\n",
      "GeneratorEncoderResblock-74            [8, 1024, 4, 4]               0\n",
      "         Identity-75            [8, 1024, 4, 4]               0\n",
      "ConditionalBatchNorm2d-76            [8, 1024, 4, 4]               0\n",
      "             ReLU-77            [8, 1024, 4, 4]               0\n",
      "         Upsample-78            [8, 1024, 8, 8]               0\n",
      "           Conv2d-79            [8, 1024, 8, 8]       9,438,208\n",
      "   SpectralConv2d-80            [8, 1024, 8, 8]               0\n",
      "ConditionalBatchNorm2d-81            [8, 1024, 8, 8]               0\n",
      "             ReLU-82            [8, 1024, 8, 8]               0\n",
      "           Conv2d-83            [8, 1024, 8, 8]       9,438,208\n",
      "   SpectralConv2d-84            [8, 1024, 8, 8]               0\n",
      "         Upsample-85            [8, 1024, 8, 8]               0\n",
      "           Conv2d-86            [8, 1024, 8, 8]       1,049,600\n",
      "   SpectralConv2d-87            [8, 1024, 8, 8]               0\n",
      "GeneratorResblock-88            [8, 1024, 8, 8]               0\n",
      "         Identity-89            [8, 1024, 8, 8]               0\n",
      "ConditionalBatchNorm2d-90            [8, 1024, 8, 8]               0\n",
      "             ReLU-91            [8, 1024, 8, 8]               0\n",
      "         Upsample-92          [8, 1024, 16, 16]               0\n",
      "           Conv2d-93           [8, 512, 16, 16]       4,719,104\n",
      "   SpectralConv2d-94           [8, 512, 16, 16]               0\n",
      "ConditionalBatchNorm2d-95           [8, 512, 16, 16]               0\n",
      "             ReLU-96           [8, 512, 16, 16]               0\n",
      "           Conv2d-97           [8, 512, 16, 16]       2,359,808\n",
      "   SpectralConv2d-98           [8, 512, 16, 16]               0\n",
      "         Upsample-99          [8, 1024, 16, 16]               0\n",
      "          Conv2d-100           [8, 512, 16, 16]         524,800\n",
      "  SpectralConv2d-101           [8, 512, 16, 16]               0\n",
      "GeneratorResblock-102           [8, 512, 16, 16]               0\n",
      "        Identity-103           [8, 512, 16, 16]               0\n",
      "ConditionalBatchNorm2d-104           [8, 512, 16, 16]               0\n",
      "            ReLU-105           [8, 512, 16, 16]               0\n",
      "        Upsample-106           [8, 512, 32, 32]               0\n",
      "          Conv2d-107           [8, 256, 32, 32]       1,179,904\n",
      "  SpectralConv2d-108           [8, 256, 32, 32]               0\n",
      "ConditionalBatchNorm2d-109           [8, 256, 32, 32]               0\n",
      "            ReLU-110           [8, 256, 32, 32]               0\n",
      "          Conv2d-111           [8, 256, 32, 32]         590,080\n",
      "  SpectralConv2d-112           [8, 256, 32, 32]               0\n",
      "        Upsample-113           [8, 512, 32, 32]               0\n",
      "          Conv2d-114           [8, 256, 32, 32]         131,328\n",
      "  SpectralConv2d-115           [8, 256, 32, 32]               0\n",
      "GeneratorResblock-116           [8, 256, 32, 32]               0\n",
      "        Identity-117           [8, 256, 32, 32]               0\n",
      "ConditionalBatchNorm2d-118           [8, 256, 32, 32]               0\n",
      "            ReLU-119           [8, 256, 32, 32]               0\n",
      "        Upsample-120           [8, 256, 64, 64]               0\n",
      "          Conv2d-121           [8, 128, 64, 64]         295,040\n",
      "  SpectralConv2d-122           [8, 128, 64, 64]               0\n",
      "ConditionalBatchNorm2d-123           [8, 128, 64, 64]               0\n",
      "            ReLU-124           [8, 128, 64, 64]               0\n",
      "          Conv2d-125           [8, 128, 64, 64]         147,584\n",
      "  SpectralConv2d-126           [8, 128, 64, 64]               0\n",
      "        Upsample-127           [8, 256, 64, 64]               0\n",
      "          Conv2d-128           [8, 128, 64, 64]          32,896\n",
      "  SpectralConv2d-129           [8, 128, 64, 64]               0\n",
      "GeneratorResblock-130           [8, 128, 64, 64]               0\n",
      "        Identity-131           [8, 128, 64, 64]               0\n",
      "ConditionalBatchNorm2d-132           [8, 128, 64, 64]               0\n",
      "            ReLU-133           [8, 128, 64, 64]               0\n",
      "        Upsample-134         [8, 128, 128, 128]               0\n",
      "          Conv2d-135          [8, 64, 128, 128]          73,792\n",
      "  SpectralConv2d-136          [8, 64, 128, 128]               0\n",
      "ConditionalBatchNorm2d-137          [8, 64, 128, 128]               0\n",
      "            ReLU-138          [8, 64, 128, 128]               0\n",
      "          Conv2d-139          [8, 64, 128, 128]          36,928\n",
      "  SpectralConv2d-140          [8, 64, 128, 128]               0\n",
      "        Upsample-141         [8, 128, 128, 128]               0\n",
      "          Conv2d-142          [8, 64, 128, 128]           8,256\n",
      "  SpectralConv2d-143          [8, 64, 128, 128]               0\n",
      "GeneratorResblock-144          [8, 64, 128, 128]               0\n",
      "ConditionalBatchNorm2d-145          [8, 64, 128, 128]               0\n",
      "            ReLU-146          [8, 64, 128, 128]               0\n",
      "          Conv2d-147           [8, 3, 128, 128]           1,731\n",
      "  SpectralConv2d-148           [8, 3, 128, 128]               0\n",
      "            Tanh-149           [8, 3, 128, 128]               0\n",
      "================================================================\n",
      "Total params: 69,457,795\n",
      "Trainable params: 69,457,795\n",
      "Non-trainable params: 0\n",
      "----------------------------------------------------------------\n",
      "Input size (MB): 1.50\n",
      "Forward/backward pass size (MB): 3041.00\n",
      "Params size (MB): 264.96\n",
      "Estimated Total Size (MB): 3307.46\n",
      "----------------------------------------------------------------\n"
     ]
    }
   ],
   "source": [
    "summary(G.to(device), input_size=[(3, 128, 128), (1, 1, 1)], batch_size=8)\n"
   ],
   "metadata": {
    "collapsed": false,
    "pycharm": {
     "name": "#%%\n"
    }
   }
  },
  {
   "cell_type": "code",
   "execution_count": 6,
   "metadata": {
    "pycharm": {
     "name": "#%%\n"
    },
    "scrolled": true
   },
   "outputs": [],
   "source": []
  }
 ],
 "metadata": {
  "kernelspec": {
   "display_name": "Python 3",
   "language": "python",
   "name": "python3"
  },
  "language_info": {
   "codemirror_mode": {
    "name": "ipython",
    "version": 3
   },
   "file_extension": ".py",
   "mimetype": "text/x-python",
   "name": "python",
   "nbconvert_exporter": "python",
   "pygments_lexer": "ipython3",
   "version": "3.8.5"
  }
 },
 "nbformat": 4,
 "nbformat_minor": 4
}