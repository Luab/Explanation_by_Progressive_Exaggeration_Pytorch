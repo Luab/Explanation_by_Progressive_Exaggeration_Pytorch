{
 "cells": [
  {
   "cell_type": "code",
   "execution_count": 1,
   "metadata": {},
   "outputs": [],
   "source": [
    "# noinspection PyPackageRequirements,PyPackageRequirements\n",
    "from torchsummary import summary\n",
    "import torch\n",
    "import yaml\n",
    "from explainer.GeneratorEncoderDecoder import GeneratorEncoderDecoder\n",
    "from explainer.Discriminator import Discriminator"
   ]
  },
  {
   "cell_type": "code",
   "execution_count": 2,
   "metadata": {},
   "outputs": [],
   "source": [
    "config_path = 'configs/celebA_Young_Explainer.yaml'\n",
    "with open(config_path) as f:\n",
    "    config = yaml.safe_load(f)"
   ]
  },
  {
   "cell_type": "code",
   "execution_count": 3,
   "metadata": {},
   "outputs": [],
   "source": [
    "G = GeneratorEncoderDecoder(n_bins=config['num_bins'])\n",
    "D = Discriminator(n_bins=config['num_bins'])"
   ]
  },
  {
   "cell_type": "code",
   "execution_count": 4,
   "metadata": {},
   "outputs": [],
   "source": [
    "device = 'cpu'\n",
    "if torch.cuda.is_available():\n",
    "    device = 'cuda'"
   ]
  },
  {
   "cell_type": "markdown",
   "metadata": {
    "pycharm": {
     "name": "#%% md\n"
    }
   },
   "source": [
    "# Estimate the Discriminator size"
   ]
  },
  {
   "cell_type": "code",
   "execution_count": 5,
   "outputs": [],
   "source": [
    "# summary(D.to(device), input_size=[(3, 128, 128), (1, 1, 32)], batch_size=32)"
   ],
   "metadata": {
    "collapsed": false,
    "pycharm": {
     "name": "#%%\n"
    }
   }
  },
  {
   "cell_type": "code",
   "execution_count": 6,
   "outputs": [
    {
     "name": "stdout",
     "output_type": "stream",
     "text": [
      "In Generator, x-shape: torch.Size([2, 3, 128, 128])\n",
      "In Generator, y-shape: torch.Size([2])\n",
      "----------------------------------------------------------------\n",
      "        Layer (type)               Output Shape         Param #\n",
      "================================================================\n",
      "ConditionalBatchNorm2d-1          [32, 3, 128, 128]               0\n",
      "              ReLU-2          [32, 3, 128, 128]               0\n",
      "            Conv2d-3         [32, 64, 128, 128]           1,792\n",
      "    SpectralConv2d-4         [32, 64, 128, 128]               0\n",
      "          Identity-5         [32, 64, 128, 128]               0\n",
      "       BatchNorm2d-6         [32, 64, 128, 128]             128\n",
      "              ReLU-7         [32, 64, 128, 128]               0\n",
      "      Downsampling-8           [32, 64, 64, 64]               0\n",
      "            Conv2d-9          [32, 128, 64, 64]          73,856\n",
      "   SpectralConv2d-10          [32, 128, 64, 64]               0\n",
      "      BatchNorm2d-11          [32, 128, 64, 64]             256\n",
      "             ReLU-12          [32, 128, 64, 64]               0\n",
      "           Conv2d-13          [32, 128, 64, 64]         147,584\n",
      "   SpectralConv2d-14          [32, 128, 64, 64]               0\n",
      "     Downsampling-15           [32, 64, 64, 64]               0\n",
      "           Conv2d-16          [32, 128, 64, 64]           8,320\n",
      "   SpectralConv2d-17          [32, 128, 64, 64]               0\n",
      "GeneratorEncoderResblock-18          [32, 128, 64, 64]               0\n",
      "         Identity-19          [32, 128, 64, 64]               0\n",
      "      BatchNorm2d-20          [32, 128, 64, 64]             256\n",
      "             ReLU-21          [32, 128, 64, 64]               0\n",
      "     Downsampling-22          [32, 128, 32, 32]               0\n",
      "           Conv2d-23          [32, 256, 32, 32]         295,168\n",
      "   SpectralConv2d-24          [32, 256, 32, 32]               0\n",
      "      BatchNorm2d-25          [32, 256, 32, 32]             512\n",
      "             ReLU-26          [32, 256, 32, 32]               0\n",
      "           Conv2d-27          [32, 256, 32, 32]         590,080\n",
      "   SpectralConv2d-28          [32, 256, 32, 32]               0\n",
      "     Downsampling-29          [32, 128, 32, 32]               0\n",
      "           Conv2d-30          [32, 256, 32, 32]          33,024\n",
      "   SpectralConv2d-31          [32, 256, 32, 32]               0\n",
      "GeneratorEncoderResblock-32          [32, 256, 32, 32]               0\n",
      "         Identity-33          [32, 256, 32, 32]               0\n",
      "      BatchNorm2d-34          [32, 256, 32, 32]             512\n",
      "             ReLU-35          [32, 256, 32, 32]               0\n",
      "     Downsampling-36          [32, 256, 16, 16]               0\n",
      "           Conv2d-37          [32, 512, 16, 16]       1,180,160\n",
      "   SpectralConv2d-38          [32, 512, 16, 16]               0\n",
      "      BatchNorm2d-39          [32, 512, 16, 16]           1,024\n",
      "             ReLU-40          [32, 512, 16, 16]               0\n",
      "           Conv2d-41          [32, 512, 16, 16]       2,359,808\n",
      "   SpectralConv2d-42          [32, 512, 16, 16]               0\n",
      "     Downsampling-43          [32, 256, 16, 16]               0\n",
      "           Conv2d-44          [32, 512, 16, 16]         131,584\n",
      "   SpectralConv2d-45          [32, 512, 16, 16]               0\n",
      "GeneratorEncoderResblock-46          [32, 512, 16, 16]               0\n",
      "         Identity-47          [32, 512, 16, 16]               0\n",
      "      BatchNorm2d-48          [32, 512, 16, 16]           1,024\n",
      "             ReLU-49          [32, 512, 16, 16]               0\n",
      "     Downsampling-50            [32, 512, 8, 8]               0\n",
      "           Conv2d-51           [32, 1024, 8, 8]       4,719,616\n",
      "   SpectralConv2d-52           [32, 1024, 8, 8]               0\n",
      "      BatchNorm2d-53           [32, 1024, 8, 8]           2,048\n",
      "             ReLU-54           [32, 1024, 8, 8]               0\n",
      "           Conv2d-55           [32, 1024, 8, 8]       9,438,208\n",
      "   SpectralConv2d-56           [32, 1024, 8, 8]               0\n",
      "     Downsampling-57            [32, 512, 8, 8]               0\n",
      "           Conv2d-58           [32, 1024, 8, 8]         525,312\n",
      "   SpectralConv2d-59           [32, 1024, 8, 8]               0\n",
      "GeneratorEncoderResblock-60           [32, 1024, 8, 8]               0\n",
      "         Identity-61           [32, 1024, 8, 8]               0\n",
      "      BatchNorm2d-62           [32, 1024, 8, 8]           2,048\n",
      "             ReLU-63           [32, 1024, 8, 8]               0\n",
      "     Downsampling-64           [32, 1024, 4, 4]               0\n",
      "           Conv2d-65           [32, 1024, 4, 4]       9,438,208\n",
      "   SpectralConv2d-66           [32, 1024, 4, 4]               0\n",
      "      BatchNorm2d-67           [32, 1024, 4, 4]           2,048\n",
      "             ReLU-68           [32, 1024, 4, 4]               0\n",
      "           Conv2d-69           [32, 1024, 4, 4]       9,438,208\n",
      "   SpectralConv2d-70           [32, 1024, 4, 4]               0\n",
      "     Downsampling-71           [32, 1024, 4, 4]               0\n",
      "           Conv2d-72           [32, 1024, 4, 4]       1,049,600\n",
      "   SpectralConv2d-73           [32, 1024, 4, 4]               0\n",
      "GeneratorEncoderResblock-74           [32, 1024, 4, 4]               0\n",
      "         Identity-75           [32, 1024, 4, 4]               0\n",
      "      BatchNorm2d-76           [32, 1024, 4, 4]           2,048\n",
      "             ReLU-77           [32, 1024, 4, 4]               0\n",
      "         Upsample-78           [32, 1024, 8, 8]               0\n",
      "           Conv2d-79           [32, 1024, 8, 8]       9,438,208\n",
      "   SpectralConv2d-80           [32, 1024, 8, 8]               0\n",
      "      BatchNorm2d-81           [32, 1024, 8, 8]           2,048\n",
      "             ReLU-82           [32, 1024, 8, 8]               0\n",
      "           Conv2d-83           [32, 1024, 8, 8]       9,438,208\n",
      "   SpectralConv2d-84           [32, 1024, 8, 8]               0\n",
      "         Upsample-85           [32, 1024, 8, 8]               0\n",
      "           Conv2d-86           [32, 1024, 8, 8]       1,049,600\n",
      "   SpectralConv2d-87           [32, 1024, 8, 8]               0\n",
      "GeneratorResblock-88           [32, 1024, 8, 8]               0\n",
      "         Identity-89           [32, 1024, 8, 8]               0\n",
      "      BatchNorm2d-90           [32, 1024, 8, 8]           2,048\n",
      "             ReLU-91           [32, 1024, 8, 8]               0\n",
      "         Upsample-92         [32, 1024, 16, 16]               0\n",
      "           Conv2d-93          [32, 512, 16, 16]       4,719,104\n",
      "   SpectralConv2d-94          [32, 512, 16, 16]               0\n",
      "      BatchNorm2d-95          [32, 512, 16, 16]           1,024\n",
      "             ReLU-96          [32, 512, 16, 16]               0\n",
      "           Conv2d-97          [32, 512, 16, 16]       2,359,808\n",
      "   SpectralConv2d-98          [32, 512, 16, 16]               0\n",
      "         Upsample-99         [32, 1024, 16, 16]               0\n",
      "          Conv2d-100          [32, 512, 16, 16]         524,800\n",
      "  SpectralConv2d-101          [32, 512, 16, 16]               0\n",
      "GeneratorResblock-102          [32, 512, 16, 16]               0\n",
      "        Identity-103          [32, 512, 16, 16]               0\n",
      "     BatchNorm2d-104          [32, 512, 16, 16]           1,024\n",
      "            ReLU-105          [32, 512, 16, 16]               0\n",
      "        Upsample-106          [32, 512, 32, 32]               0\n",
      "          Conv2d-107          [32, 256, 32, 32]       1,179,904\n",
      "  SpectralConv2d-108          [32, 256, 32, 32]               0\n",
      "     BatchNorm2d-109          [32, 256, 32, 32]             512\n",
      "            ReLU-110          [32, 256, 32, 32]               0\n",
      "          Conv2d-111          [32, 256, 32, 32]         590,080\n",
      "  SpectralConv2d-112          [32, 256, 32, 32]               0\n",
      "        Upsample-113          [32, 512, 32, 32]               0\n",
      "          Conv2d-114          [32, 256, 32, 32]         131,328\n",
      "  SpectralConv2d-115          [32, 256, 32, 32]               0\n",
      "GeneratorResblock-116          [32, 256, 32, 32]               0\n",
      "        Identity-117          [32, 256, 32, 32]               0\n",
      "     BatchNorm2d-118          [32, 256, 32, 32]             512\n",
      "            ReLU-119          [32, 256, 32, 32]               0\n",
      "        Upsample-120          [32, 256, 64, 64]               0\n",
      "          Conv2d-121          [32, 128, 64, 64]         295,040\n",
      "  SpectralConv2d-122          [32, 128, 64, 64]               0\n",
      "     BatchNorm2d-123          [32, 128, 64, 64]             256\n",
      "            ReLU-124          [32, 128, 64, 64]               0\n",
      "          Conv2d-125          [32, 128, 64, 64]         147,584\n",
      "  SpectralConv2d-126          [32, 128, 64, 64]               0\n",
      "        Upsample-127          [32, 256, 64, 64]               0\n",
      "          Conv2d-128          [32, 128, 64, 64]          32,896\n",
      "  SpectralConv2d-129          [32, 128, 64, 64]               0\n",
      "GeneratorResblock-130          [32, 128, 64, 64]               0\n",
      "        Identity-131          [32, 128, 64, 64]               0\n",
      "     BatchNorm2d-132          [32, 128, 64, 64]             256\n",
      "            ReLU-133          [32, 128, 64, 64]               0\n",
      "        Upsample-134        [32, 128, 128, 128]               0\n",
      "          Conv2d-135         [32, 64, 128, 128]          73,792\n",
      "  SpectralConv2d-136         [32, 64, 128, 128]               0\n",
      "     BatchNorm2d-137         [32, 64, 128, 128]             128\n",
      "            ReLU-138         [32, 64, 128, 128]               0\n",
      "          Conv2d-139         [32, 64, 128, 128]          36,928\n",
      "  SpectralConv2d-140         [32, 64, 128, 128]               0\n",
      "        Upsample-141        [32, 128, 128, 128]               0\n",
      "          Conv2d-142         [32, 64, 128, 128]           8,256\n",
      "  SpectralConv2d-143         [32, 64, 128, 128]               0\n",
      "GeneratorResblock-144         [32, 64, 128, 128]               0\n",
      "ConditionalBatchNorm2d-145         [32, 64, 128, 128]               0\n",
      "            ReLU-146         [32, 64, 128, 128]               0\n",
      "          Conv2d-147          [32, 3, 128, 128]           1,731\n",
      "  SpectralConv2d-148          [32, 3, 128, 128]               0\n",
      "            Tanh-149          [32, 3, 128, 128]               0\n",
      "================================================================\n",
      "Total params: 69,477,507\n",
      "Trainable params: 69,477,507\n",
      "Non-trainable params: 0\n",
      "----------------------------------------------------------------\n",
      "Input size (MB): 6.00\n",
      "Forward/backward pass size (MB): 12164.00\n",
      "Params size (MB): 265.04\n",
      "Estimated Total Size (MB): 12435.04\n",
      "----------------------------------------------------------------\n"
     ]
    }
   ],
   "source": [
    "summary(G.to(device), input_size=[(3, 128, 128), (1, 1, 1)], batch_size=32)\n"
   ],
   "metadata": {
    "collapsed": false,
    "pycharm": {
     "name": "#%%\n"
    }
   }
  },
  {
   "cell_type": "code",
   "execution_count": 6,
   "metadata": {
    "pycharm": {
     "name": "#%%\n"
    },
    "scrolled": true
   },
   "outputs": [],
   "source": []
  }
 ],
 "metadata": {
  "kernelspec": {
   "display_name": "Python 3",
   "language": "python",
   "name": "python3"
  },
  "language_info": {
   "codemirror_mode": {
    "name": "ipython",
    "version": 3
   },
   "file_extension": ".py",
   "mimetype": "text/x-python",
   "name": "python",
   "nbconvert_exporter": "python",
   "pygments_lexer": "ipython3",
   "version": "3.8.5"
  }
 },
 "nbformat": 4,
 "nbformat_minor": 4
}