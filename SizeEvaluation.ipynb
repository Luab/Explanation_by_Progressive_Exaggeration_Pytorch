{
 "cells": [
  {
   "cell_type": "code",
   "execution_count": 1,
   "metadata": {},
   "outputs": [
    {
     "name": "stdout",
     "output_type": "stream",
     "text": [
      "Thu Oct 22 19:20:09 2020       \r\n",
      "+-----------------------------------------------------------------------------+\r\n",
      "| NVIDIA-SMI 450.36.06    Driver Version: 450.36.06    CUDA Version: 11.0     |\r\n",
      "|-------------------------------+----------------------+----------------------+\r\n",
      "| GPU  Name        Persistence-M| Bus-Id        Disp.A | Volatile Uncorr. ECC |\r\n",
      "| Fan  Temp  Perf  Pwr:Usage/Cap|         Memory-Usage | GPU-Util  Compute M. |\r\n",
      "|                               |                      |               MIG M. |\r\n",
      "|===============================+======================+======================|\r\n",
      "|   0  GeForce GTX 108...  On   | 00000000:41:00.0 Off |                  N/A |\r\n",
      "|  0%   20C    P0    56W / 280W |     27MiB / 11176MiB |      0%      Default |\r\n",
      "|                               |                      |                  N/A |\r\n",
      "+-------------------------------+----------------------+----------------------+\r\n",
      "                                                                               \r\n",
      "+-----------------------------------------------------------------------------+\r\n",
      "| Processes:                                                                  |\r\n",
      "|  GPU   GI   CI        PID   Type   Process name                  GPU Memory |\r\n",
      "|        ID   ID                                                   Usage      |\r\n",
      "|=============================================================================|\r\n",
      "+-----------------------------------------------------------------------------+\r\n"
     ]
    }
   ],
   "source": [
    "!nvidia-smi"
   ]
  },
  {
   "cell_type": "code",
   "execution_count": 2,
   "metadata": {},
   "outputs": [],
   "source": [
    "from torchsummary import summary\n",
    "import yaml\n",
    "from explainer.GeneratorEncoderDecoder import GeneratorEncoderDecoder\n",
    "from explainer.Discriminator import Discriminator"
   ]
  },
  {
   "cell_type": "code",
   "execution_count": 3,
   "metadata": {},
   "outputs": [],
   "source": [
    "config_path = 'configs/celebA_Young_Explainer.yaml'\n",
    "with open(config_path) as f:\n",
    "    config = yaml.safe_load(f)"
   ]
  },
  {
   "cell_type": "code",
   "execution_count": 4,
   "metadata": {},
   "outputs": [],
   "source": [
    "G = GeneratorEncoderDecoder(n_bins=config['num_bins'])\n",
    "D = Discriminator(n_bins=config['num_bins'])"
   ]
  },
  {
   "cell_type": "code",
   "execution_count": 5,
   "metadata": {},
   "outputs": [
    {
     "name": "stdout",
     "output_type": "stream",
     "text": [
      "----------------------------------------------------------------\n",
      "        Layer (type)               Output Shape         Param #\n",
      "================================================================\n",
      "          Identity-1          [32, 3, 128, 128]               0\n",
      "            Conv2d-2         [32, 64, 128, 128]           1,792\n",
      "    SpectralConv2d-3         [32, 64, 128, 128]               0\n",
      "              ReLU-4         [32, 64, 128, 128]               0\n",
      "            Conv2d-5         [32, 64, 128, 128]          36,928\n",
      "    SpectralConv2d-6         [32, 64, 128, 128]               0\n",
      "      Downsampling-7           [32, 64, 64, 64]               0\n",
      "      Downsampling-8            [32, 3, 64, 64]               0\n",
      "            Conv2d-9           [32, 64, 64, 64]             256\n",
      "   SpectralConv2d-10           [32, 64, 64, 64]               0\n",
      "DiscriminatorResBlock-11           [32, 64, 64, 64]               0\n",
      "         Identity-12           [32, 64, 64, 64]               0\n",
      "             ReLU-13           [32, 64, 64, 64]               0\n",
      "           Conv2d-14          [32, 128, 64, 64]          73,856\n",
      "   SpectralConv2d-15          [32, 128, 64, 64]               0\n",
      "             ReLU-16          [32, 128, 64, 64]               0\n",
      "           Conv2d-17          [32, 128, 64, 64]         147,584\n",
      "   SpectralConv2d-18          [32, 128, 64, 64]               0\n",
      "     Downsampling-19          [32, 128, 32, 32]               0\n",
      "           Conv2d-20          [32, 128, 64, 64]           8,320\n",
      "   SpectralConv2d-21          [32, 128, 64, 64]               0\n",
      "     Downsampling-22          [32, 128, 32, 32]               0\n",
      "DiscriminatorResBlock-23          [32, 128, 32, 32]               0\n",
      "         Identity-24          [32, 128, 32, 32]               0\n",
      "             ReLU-25          [32, 128, 32, 32]               0\n",
      "           Conv2d-26          [32, 256, 32, 32]         295,168\n",
      "   SpectralConv2d-27          [32, 256, 32, 32]               0\n",
      "             ReLU-28          [32, 256, 32, 32]               0\n",
      "           Conv2d-29          [32, 256, 32, 32]         590,080\n",
      "   SpectralConv2d-30          [32, 256, 32, 32]               0\n",
      "     Downsampling-31          [32, 256, 16, 16]               0\n",
      "           Conv2d-32          [32, 256, 32, 32]          33,024\n",
      "   SpectralConv2d-33          [32, 256, 32, 32]               0\n",
      "     Downsampling-34          [32, 256, 16, 16]               0\n",
      "DiscriminatorResBlock-35          [32, 256, 16, 16]               0\n",
      "         Identity-36          [32, 256, 16, 16]               0\n",
      "             ReLU-37          [32, 256, 16, 16]               0\n",
      "           Conv2d-38          [32, 512, 16, 16]       1,180,160\n",
      "   SpectralConv2d-39          [32, 512, 16, 16]               0\n",
      "             ReLU-40          [32, 512, 16, 16]               0\n",
      "           Conv2d-41          [32, 512, 16, 16]       2,359,808\n",
      "   SpectralConv2d-42          [32, 512, 16, 16]               0\n",
      "     Downsampling-43            [32, 512, 8, 8]               0\n",
      "           Conv2d-44          [32, 512, 16, 16]         131,584\n",
      "   SpectralConv2d-45          [32, 512, 16, 16]               0\n",
      "     Downsampling-46            [32, 512, 8, 8]               0\n",
      "DiscriminatorResBlock-47            [32, 512, 8, 8]               0\n",
      "         Identity-48            [32, 512, 8, 8]               0\n",
      "             ReLU-49            [32, 512, 8, 8]               0\n",
      "           Conv2d-50           [32, 1024, 8, 8]       4,719,616\n",
      "   SpectralConv2d-51           [32, 1024, 8, 8]               0\n",
      "             ReLU-52           [32, 1024, 8, 8]               0\n",
      "           Conv2d-53           [32, 1024, 8, 8]       9,438,208\n",
      "   SpectralConv2d-54           [32, 1024, 8, 8]               0\n",
      "     Downsampling-55           [32, 1024, 4, 4]               0\n",
      "           Conv2d-56           [32, 1024, 8, 8]         525,312\n",
      "   SpectralConv2d-57           [32, 1024, 8, 8]               0\n",
      "     Downsampling-58           [32, 1024, 4, 4]               0\n",
      "DiscriminatorResBlock-59           [32, 1024, 4, 4]               0\n",
      "         Identity-60           [32, 1024, 4, 4]               0\n",
      "             ReLU-61           [32, 1024, 4, 4]               0\n",
      "           Conv2d-62           [32, 1024, 4, 4]       9,438,208\n",
      "   SpectralConv2d-63           [32, 1024, 4, 4]               0\n",
      "             ReLU-64           [32, 1024, 4, 4]               0\n",
      "           Conv2d-65           [32, 1024, 4, 4]       9,438,208\n",
      "   SpectralConv2d-66           [32, 1024, 4, 4]               0\n",
      "DiscriminatorResBlock-67           [32, 1024, 4, 4]               0\n",
      "             ReLU-68           [32, 1024, 4, 4]               0\n",
      "        AvgPool2d-69           [32, 1024, 1, 1]               0\n",
      "           Linear-70                    [32, 1]           1,025\n",
      "================================================================\n",
      "Total params: 38,419,137\n",
      "Trainable params: 38,419,137\n",
      "Non-trainable params: 0\n",
      "----------------------------------------------------------------\n",
      "Input size (MB): 6.00\n",
      "Forward/backward pass size (MB): 3687.25\n",
      "Params size (MB): 146.56\n",
      "Estimated Total Size (MB): 3839.81\n",
      "----------------------------------------------------------------\n"
     ]
    }
   ],
   "source": [
    "summary(D.to('cuda'), input_size=(3, 128, 128), batch_size=32)"
   ]
  },
  {
   "cell_type": "code",
   "execution_count": null,
   "metadata": {},
   "outputs": [],
   "source": []
  }
 ],
 "metadata": {
  "kernelspec": {
   "display_name": "Python 3",
   "language": "python",
   "name": "python3"
  },
  "language_info": {
   "codemirror_mode": {
    "name": "ipython",
    "version": 3
   },
   "file_extension": ".py",
   "mimetype": "text/x-python",
   "name": "python",
   "nbconvert_exporter": "python",
   "pygments_lexer": "ipython3",
   "version": "3.8.5"
  }
 },
 "nbformat": 4,
 "nbformat_minor": 4
}
