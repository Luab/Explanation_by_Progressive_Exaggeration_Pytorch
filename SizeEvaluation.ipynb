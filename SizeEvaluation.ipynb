{
 "cells": [
  {
   "cell_type": "code",
   "execution_count": 1,
   "metadata": {},
   "outputs": [],
   "source": [
    "# noinspection PyPackageRequirements,PyPackageRequirements\n",
    "from torchsummary import summary\n",
    "import torch\n",
    "import yaml\n",
    "from explainer.GeneratorEncoderDecoder import GeneratorEncoderDecoder\n",
    "from explainer.Discriminator import Discriminator"
   ]
  },
  {
   "cell_type": "code",
   "execution_count": 2,
   "metadata": {},
   "outputs": [],
   "source": [
    "config_path = 'configs/celebA_Young_Explainer.yaml'\n",
    "with open(config_path) as f:\n",
    "    config = yaml.safe_load(f)"
   ]
  },
  {
   "cell_type": "code",
   "execution_count": 3,
   "metadata": {},
   "outputs": [],
   "source": [
    "G = GeneratorEncoderDecoder(n_bins=config['num_bins'])\n",
    "D = Discriminator(n_bins=config['num_bins'])"
   ]
  },
  {
   "cell_type": "code",
   "execution_count": 4,
   "metadata": {},
   "outputs": [
    {
     "name": "stderr",
     "output_type": "stream",
     "text": [
      "/home/shamil/.local/lib/python3.8/site-packages/torch/cuda/__init__.py:52: UserWarning: CUDA initialization: Found no NVIDIA driver on your system. Please check that you have an NVIDIA GPU and installed a driver from http://www.nvidia.com/Download/index.aspx (Triggered internally at  /pytorch/c10/cuda/CUDAFunctions.cpp:100.)\n",
      "  return torch._C._cuda_getDeviceCount() > 0\n"
     ]
    }
   ],
   "source": [
    "device = 'cpu'\n",
    "if torch.cuda.is_available():\n",
    "    device = 'cuda'"
   ]
  },
  {
   "cell_type": "markdown",
   "metadata": {
    "pycharm": {
     "name": "#%% md\n"
    }
   },
   "source": [
    "# Estimate the Discriminator size"
   ]
  },
  {
   "cell_type": "code",
   "execution_count": 5,
   "outputs": [],
   "source": [
    "# summary(D.to(device), input_size=[(3, 128, 128), (1, 1, 1)], batch_size=8)"
   ],
   "metadata": {
    "collapsed": false,
    "pycharm": {
     "name": "#%%\n"
    }
   }
  },
  {
   "cell_type": "code",
   "execution_count": 6,
   "outputs": [
    {
     "name": "stdout",
     "output_type": "stream",
     "text": [
      "----------------------------------------------------------------\n",
      "        Layer (type)               Output Shape         Param #\n",
      "================================================================\n",
      "         Embedding-1                     [8, 3]              30\n",
      "         Embedding-2                     [8, 3]              30\n",
      "CategoricalConditionalBatchNorm2d-3           [8, 3, 128, 128]               0\n",
      "              ReLU-4           [8, 3, 128, 128]               0\n",
      "            Conv2d-5          [8, 64, 128, 128]           1,792\n",
      "    SpectralConv2d-6          [8, 64, 128, 128]               0\n",
      "          Identity-7          [8, 64, 128, 128]               0\n",
      "         Embedding-8                    [8, 64]             640\n",
      "         Embedding-9                    [8, 64]             640\n",
      "CategoricalConditionalBatchNorm2d-10          [8, 64, 128, 128]               0\n",
      "             ReLU-11          [8, 64, 128, 128]               0\n",
      "     Downsampling-12            [8, 64, 64, 64]               0\n",
      "           Conv2d-13           [8, 128, 64, 64]          73,856\n",
      "   SpectralConv2d-14           [8, 128, 64, 64]               0\n",
      "        Embedding-15                   [8, 128]           1,280\n",
      "        Embedding-16                   [8, 128]           1,280\n",
      "CategoricalConditionalBatchNorm2d-17           [8, 128, 64, 64]               0\n",
      "             ReLU-18           [8, 128, 64, 64]               0\n",
      "           Conv2d-19           [8, 128, 64, 64]         147,584\n",
      "   SpectralConv2d-20           [8, 128, 64, 64]               0\n",
      "     Downsampling-21            [8, 64, 64, 64]               0\n",
      "           Conv2d-22           [8, 128, 64, 64]           8,320\n",
      "   SpectralConv2d-23           [8, 128, 64, 64]               0\n",
      "GeneratorEncoderResblock-24           [8, 128, 64, 64]               0\n",
      "         Identity-25           [8, 128, 64, 64]               0\n",
      "        Embedding-26                   [8, 128]           1,280\n",
      "        Embedding-27                   [8, 128]           1,280\n",
      "CategoricalConditionalBatchNorm2d-28           [8, 128, 64, 64]               0\n",
      "             ReLU-29           [8, 128, 64, 64]               0\n",
      "     Downsampling-30           [8, 128, 32, 32]               0\n",
      "           Conv2d-31           [8, 256, 32, 32]         295,168\n",
      "   SpectralConv2d-32           [8, 256, 32, 32]               0\n",
      "        Embedding-33                   [8, 256]           2,560\n",
      "        Embedding-34                   [8, 256]           2,560\n",
      "CategoricalConditionalBatchNorm2d-35           [8, 256, 32, 32]               0\n",
      "             ReLU-36           [8, 256, 32, 32]               0\n",
      "           Conv2d-37           [8, 256, 32, 32]         590,080\n",
      "   SpectralConv2d-38           [8, 256, 32, 32]               0\n",
      "     Downsampling-39           [8, 128, 32, 32]               0\n",
      "           Conv2d-40           [8, 256, 32, 32]          33,024\n",
      "   SpectralConv2d-41           [8, 256, 32, 32]               0\n",
      "GeneratorEncoderResblock-42           [8, 256, 32, 32]               0\n",
      "         Identity-43           [8, 256, 32, 32]               0\n",
      "        Embedding-44                   [8, 256]           2,560\n",
      "        Embedding-45                   [8, 256]           2,560\n",
      "CategoricalConditionalBatchNorm2d-46           [8, 256, 32, 32]               0\n",
      "             ReLU-47           [8, 256, 32, 32]               0\n",
      "     Downsampling-48           [8, 256, 16, 16]               0\n",
      "           Conv2d-49           [8, 512, 16, 16]       1,180,160\n",
      "   SpectralConv2d-50           [8, 512, 16, 16]               0\n",
      "        Embedding-51                   [8, 512]           5,120\n",
      "        Embedding-52                   [8, 512]           5,120\n",
      "CategoricalConditionalBatchNorm2d-53           [8, 512, 16, 16]               0\n",
      "             ReLU-54           [8, 512, 16, 16]               0\n",
      "           Conv2d-55           [8, 512, 16, 16]       2,359,808\n",
      "   SpectralConv2d-56           [8, 512, 16, 16]               0\n",
      "     Downsampling-57           [8, 256, 16, 16]               0\n",
      "           Conv2d-58           [8, 512, 16, 16]         131,584\n",
      "   SpectralConv2d-59           [8, 512, 16, 16]               0\n",
      "GeneratorEncoderResblock-60           [8, 512, 16, 16]               0\n",
      "         Identity-61           [8, 512, 16, 16]               0\n",
      "        Embedding-62                   [8, 512]           5,120\n",
      "        Embedding-63                   [8, 512]           5,120\n",
      "CategoricalConditionalBatchNorm2d-64           [8, 512, 16, 16]               0\n",
      "             ReLU-65           [8, 512, 16, 16]               0\n",
      "     Downsampling-66             [8, 512, 8, 8]               0\n",
      "           Conv2d-67            [8, 1024, 8, 8]       4,719,616\n",
      "   SpectralConv2d-68            [8, 1024, 8, 8]               0\n",
      "        Embedding-69                  [8, 1024]          10,240\n",
      "        Embedding-70                  [8, 1024]          10,240\n",
      "CategoricalConditionalBatchNorm2d-71            [8, 1024, 8, 8]               0\n",
      "             ReLU-72            [8, 1024, 8, 8]               0\n",
      "           Conv2d-73            [8, 1024, 8, 8]       9,438,208\n",
      "   SpectralConv2d-74            [8, 1024, 8, 8]               0\n",
      "     Downsampling-75             [8, 512, 8, 8]               0\n",
      "           Conv2d-76            [8, 1024, 8, 8]         525,312\n",
      "   SpectralConv2d-77            [8, 1024, 8, 8]               0\n",
      "GeneratorEncoderResblock-78            [8, 1024, 8, 8]               0\n",
      "         Identity-79            [8, 1024, 8, 8]               0\n",
      "        Embedding-80                  [8, 1024]          10,240\n",
      "        Embedding-81                  [8, 1024]          10,240\n",
      "CategoricalConditionalBatchNorm2d-82            [8, 1024, 8, 8]               0\n",
      "             ReLU-83            [8, 1024, 8, 8]               0\n",
      "     Downsampling-84            [8, 1024, 4, 4]               0\n",
      "           Conv2d-85            [8, 1024, 4, 4]       9,438,208\n",
      "   SpectralConv2d-86            [8, 1024, 4, 4]               0\n",
      "        Embedding-87                  [8, 1024]          10,240\n",
      "        Embedding-88                  [8, 1024]          10,240\n",
      "CategoricalConditionalBatchNorm2d-89            [8, 1024, 4, 4]               0\n",
      "             ReLU-90            [8, 1024, 4, 4]               0\n",
      "           Conv2d-91            [8, 1024, 4, 4]       9,438,208\n",
      "   SpectralConv2d-92            [8, 1024, 4, 4]               0\n",
      "     Downsampling-93            [8, 1024, 4, 4]               0\n",
      "           Conv2d-94            [8, 1024, 4, 4]       1,049,600\n",
      "   SpectralConv2d-95            [8, 1024, 4, 4]               0\n",
      "GeneratorEncoderResblock-96            [8, 1024, 4, 4]               0\n",
      "         Identity-97            [8, 1024, 4, 4]               0\n",
      "        Embedding-98                  [8, 1024]          10,240\n",
      "        Embedding-99                  [8, 1024]          10,240\n",
      "CategoricalConditionalBatchNorm2d-100            [8, 1024, 4, 4]               0\n",
      "            ReLU-101            [8, 1024, 4, 4]               0\n",
      "        Upsample-102            [8, 1024, 8, 8]               0\n",
      "          Conv2d-103            [8, 1024, 8, 8]       9,438,208\n",
      "  SpectralConv2d-104            [8, 1024, 8, 8]               0\n",
      "       Embedding-105                  [8, 1024]          10,240\n",
      "       Embedding-106                  [8, 1024]          10,240\n",
      "CategoricalConditionalBatchNorm2d-107            [8, 1024, 8, 8]               0\n",
      "            ReLU-108            [8, 1024, 8, 8]               0\n",
      "          Conv2d-109            [8, 1024, 8, 8]       9,438,208\n",
      "  SpectralConv2d-110            [8, 1024, 8, 8]               0\n",
      "        Upsample-111            [8, 1024, 8, 8]               0\n",
      "          Conv2d-112            [8, 1024, 8, 8]       1,049,600\n",
      "  SpectralConv2d-113            [8, 1024, 8, 8]               0\n",
      "GeneratorResblock-114            [8, 1024, 8, 8]               0\n",
      "        Identity-115            [8, 1024, 8, 8]               0\n",
      "       Embedding-116                  [8, 1024]          10,240\n",
      "       Embedding-117                  [8, 1024]          10,240\n",
      "CategoricalConditionalBatchNorm2d-118            [8, 1024, 8, 8]               0\n",
      "            ReLU-119            [8, 1024, 8, 8]               0\n",
      "        Upsample-120          [8, 1024, 16, 16]               0\n",
      "          Conv2d-121           [8, 512, 16, 16]       4,719,104\n",
      "  SpectralConv2d-122           [8, 512, 16, 16]               0\n",
      "       Embedding-123                   [8, 512]           5,120\n",
      "       Embedding-124                   [8, 512]           5,120\n",
      "CategoricalConditionalBatchNorm2d-125           [8, 512, 16, 16]               0\n",
      "            ReLU-126           [8, 512, 16, 16]               0\n",
      "          Conv2d-127           [8, 512, 16, 16]       2,359,808\n",
      "  SpectralConv2d-128           [8, 512, 16, 16]               0\n",
      "        Upsample-129          [8, 1024, 16, 16]               0\n",
      "          Conv2d-130           [8, 512, 16, 16]         524,800\n",
      "  SpectralConv2d-131           [8, 512, 16, 16]               0\n",
      "GeneratorResblock-132           [8, 512, 16, 16]               0\n",
      "        Identity-133           [8, 512, 16, 16]               0\n",
      "       Embedding-134                   [8, 512]           5,120\n",
      "       Embedding-135                   [8, 512]           5,120\n",
      "CategoricalConditionalBatchNorm2d-136           [8, 512, 16, 16]               0\n",
      "            ReLU-137           [8, 512, 16, 16]               0\n",
      "        Upsample-138           [8, 512, 32, 32]               0\n",
      "          Conv2d-139           [8, 256, 32, 32]       1,179,904\n",
      "  SpectralConv2d-140           [8, 256, 32, 32]               0\n",
      "       Embedding-141                   [8, 256]           2,560\n",
      "       Embedding-142                   [8, 256]           2,560\n",
      "CategoricalConditionalBatchNorm2d-143           [8, 256, 32, 32]               0\n",
      "            ReLU-144           [8, 256, 32, 32]               0\n",
      "          Conv2d-145           [8, 256, 32, 32]         590,080\n",
      "  SpectralConv2d-146           [8, 256, 32, 32]               0\n",
      "        Upsample-147           [8, 512, 32, 32]               0\n",
      "          Conv2d-148           [8, 256, 32, 32]         131,328\n",
      "  SpectralConv2d-149           [8, 256, 32, 32]               0\n",
      "GeneratorResblock-150           [8, 256, 32, 32]               0\n",
      "        Identity-151           [8, 256, 32, 32]               0\n",
      "       Embedding-152                   [8, 256]           2,560\n",
      "       Embedding-153                   [8, 256]           2,560\n",
      "CategoricalConditionalBatchNorm2d-154           [8, 256, 32, 32]               0\n",
      "            ReLU-155           [8, 256, 32, 32]               0\n",
      "        Upsample-156           [8, 256, 64, 64]               0\n",
      "          Conv2d-157           [8, 128, 64, 64]         295,040\n",
      "  SpectralConv2d-158           [8, 128, 64, 64]               0\n",
      "       Embedding-159                   [8, 128]           1,280\n",
      "       Embedding-160                   [8, 128]           1,280\n",
      "CategoricalConditionalBatchNorm2d-161           [8, 128, 64, 64]               0\n",
      "            ReLU-162           [8, 128, 64, 64]               0\n",
      "          Conv2d-163           [8, 128, 64, 64]         147,584\n",
      "  SpectralConv2d-164           [8, 128, 64, 64]               0\n",
      "        Upsample-165           [8, 256, 64, 64]               0\n",
      "          Conv2d-166           [8, 128, 64, 64]          32,896\n",
      "  SpectralConv2d-167           [8, 128, 64, 64]               0\n",
      "GeneratorResblock-168           [8, 128, 64, 64]               0\n",
      "        Identity-169           [8, 128, 64, 64]               0\n",
      "       Embedding-170                   [8, 128]           1,280\n",
      "       Embedding-171                   [8, 128]           1,280\n",
      "CategoricalConditionalBatchNorm2d-172           [8, 128, 64, 64]               0\n",
      "            ReLU-173           [8, 128, 64, 64]               0\n",
      "        Upsample-174         [8, 128, 128, 128]               0\n",
      "          Conv2d-175          [8, 64, 128, 128]          73,792\n",
      "  SpectralConv2d-176          [8, 64, 128, 128]               0\n",
      "       Embedding-177                    [8, 64]             640\n",
      "       Embedding-178                    [8, 64]             640\n",
      "CategoricalConditionalBatchNorm2d-179          [8, 64, 128, 128]               0\n",
      "            ReLU-180          [8, 64, 128, 128]               0\n",
      "          Conv2d-181          [8, 64, 128, 128]          36,928\n",
      "  SpectralConv2d-182          [8, 64, 128, 128]               0\n",
      "        Upsample-183         [8, 128, 128, 128]               0\n",
      "          Conv2d-184          [8, 64, 128, 128]           8,256\n",
      "  SpectralConv2d-185          [8, 64, 128, 128]               0\n",
      "GeneratorResblock-186          [8, 64, 128, 128]               0\n",
      "       Embedding-187                    [8, 64]             640\n",
      "       Embedding-188                    [8, 64]             640\n",
      "CategoricalConditionalBatchNorm2d-189          [8, 64, 128, 128]               0\n",
      "            ReLU-190          [8, 64, 128, 128]               0\n",
      "          Conv2d-191           [8, 3, 128, 128]           1,731\n",
      "  SpectralConv2d-192           [8, 3, 128, 128]               0\n",
      "            Tanh-193           [8, 3, 128, 128]               0\n",
      "================================================================\n",
      "Total params: 69,656,255\n",
      "Trainable params: 69,656,255\n",
      "Non-trainable params: 0\n",
      "----------------------------------------------------------------\n",
      "Input size (MB): 1.50\n",
      "Forward/backward pass size (MB): 3042.21\n",
      "Params size (MB): 265.72\n",
      "Estimated Total Size (MB): 3309.43\n",
      "----------------------------------------------------------------\n"
     ]
    }
   ],
   "source": [
    "summary(G.to(device), input_size=[(3, 128, 128), (1, 1, 1)], batch_size=8)\n"
   ],
   "metadata": {
    "collapsed": false,
    "pycharm": {
     "name": "#%%\n"
    }
   }
  },
  {
   "cell_type": "code",
   "execution_count": 6,
   "metadata": {
    "pycharm": {
     "name": "#%%\n"
    },
    "scrolled": true
   },
   "outputs": [],
   "source": []
  }
 ],
 "metadata": {
  "kernelspec": {
   "display_name": "Python 3",
   "language": "python",
   "name": "python3"
  },
  "language_info": {
   "codemirror_mode": {
    "name": "ipython",
    "version": 3
   },
   "file_extension": ".py",
   "mimetype": "text/x-python",
   "name": "python",
   "nbconvert_exporter": "python",
   "pygments_lexer": "ipython3",
   "version": "3.8.5"
  }
 },
 "nbformat": 4,
 "nbformat_minor": 4
}